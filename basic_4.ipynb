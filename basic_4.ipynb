{
 "cells": [
  {
   "cell_type": "markdown",
   "id": "164644d7-a590-49bb-b53c-c65a2c9af589",
   "metadata": {},
   "source": [
    "problem-1"
   ]
  },
  {
   "cell_type": "code",
   "execution_count": 1,
   "id": "4b065a5b-24ed-4ad7-a712-b9dedc38be0c",
   "metadata": {},
   "outputs": [
    {
     "data": {
      "text/plain": [
       "[('Virat Kohli', 24936),\n",
       " ('Jack Kallis', 25534),\n",
       " ('Ricky Ponting', 27483),\n",
       " ('Sachin Tendulkar', 34357)]"
      ]
     },
     "execution_count": 1,
     "metadata": {},
     "output_type": "execute_result"
    }
   ],
   "source": [
    "'''Q1. Create a python program to sort the given list of tuples based on integer value using a\n",
    "lambda function.\n",
    "[('Sachin Tendulkar', 34357), ('Ricky Ponting', 27483), ('Jack Kallis', 25534), ('Virat Kohli', 24936)]'''\n",
    "\n",
    "l=[('Sachin Tendulkar', 34357), ('Ricky Ponting', 27483), ('Jack Kallis', 25534), ('Virat Kohli', 24936)]\n",
    "l.sort(key=lambda x:x[1])\n",
    "l          "
   ]
  },
  {
   "cell_type": "markdown",
   "id": "887c3759-3545-4d2f-963d-a9e0edf78a85",
   "metadata": {},
   "source": [
    "problem-2"
   ]
  },
  {
   "cell_type": "code",
   "execution_count": 2,
   "id": "b8b5c495-4c59-4634-996d-98a89642bd27",
   "metadata": {},
   "outputs": [
    {
     "data": {
      "text/plain": [
       "[1, 4, 9, 16, 25, 36, 49, 64, 81, 100]"
      ]
     },
     "execution_count": 2,
     "metadata": {},
     "output_type": "execute_result"
    }
   ],
   "source": [
    "'''Q2. Write a Python Program to find the squares of all the numbers in the given list of integers using\n",
    "lambda and map functions.\n",
    "[1, 2, 3, 4, 5, 6, 7, 8, 9, 10]'''\n",
    "\n",
    "l=[1, 2, 3, 4, 5, 6, 7, 8, 9, 10]\n",
    "list(map(lambda x:x**2,l))"
   ]
  },
  {
   "cell_type": "markdown",
   "id": "e2fac477-7357-489e-89c1-4a711cca4bb3",
   "metadata": {},
   "source": [
    "problem-3"
   ]
  },
  {
   "cell_type": "code",
   "execution_count": 3,
   "id": "d2fb6853-6680-4001-bfae-b4bdaaa9543c",
   "metadata": {},
   "outputs": [
    {
     "data": {
      "text/plain": [
       "('1', '2', '3', '4', '5', '6', '7', '8', '9', '10')"
      ]
     },
     "execution_count": 3,
     "metadata": {},
     "output_type": "execute_result"
    }
   ],
   "source": [
    "'''Q3. Write a python program to convert the given list of integers into a tuple of strings. Use map and\n",
    "lambda functions\n",
    "Given String: [1, 2, 3, 4, 5, 6, 7, 8, 9, 10]\n",
    "Expected output: ('1', '2', '3', '4', '5', '6', '7', '8', '9', '10')'''\n",
    "\n",
    "l=[1, 2, 3, 4, 5, 6, 7, 8, 9, 10]\n",
    "tuple(map(lambda x:str(x),l))\n",
    "    \n",
    "    "
   ]
  },
  {
   "cell_type": "markdown",
   "id": "0491ed1f-0ff8-4b8a-97b8-b083d61137f0",
   "metadata": {},
   "source": [
    "problem-4"
   ]
  },
  {
   "cell_type": "code",
   "execution_count": 4,
   "id": "1a7b8723-acaf-4e95-8c17-73a0dca98464",
   "metadata": {},
   "outputs": [
    {
     "data": {
      "text/plain": [
       "15511210043330985984000000"
      ]
     },
     "execution_count": 4,
     "metadata": {},
     "output_type": "execute_result"
    }
   ],
   "source": [
    "'''Q4. Write a python program using reduce function to compute the product of a list containing numbers\n",
    "from 1 to 25.'''\n",
    "from functools import reduce\n",
    "l=[]\n",
    "i=1\n",
    "while i<26:\n",
    "    l.append(i)\n",
    "    i+=1\n",
    "reduce(lambda x,y:x*y,l)"
   ]
  },
  {
   "cell_type": "markdown",
   "id": "719f3bf1-dcc2-4521-ad1a-c91e582b8f33",
   "metadata": {},
   "source": [
    "problem-5"
   ]
  },
  {
   "cell_type": "code",
   "execution_count": 5,
   "id": "d2152f13-8062-4220-a0ce-bdd8152c3f20",
   "metadata": {},
   "outputs": [
    {
     "data": {
      "text/plain": [
       "[6, 60, 90, 120]"
      ]
     },
     "execution_count": 5,
     "metadata": {},
     "output_type": "execute_result"
    }
   ],
   "source": [
    "'''Q5. Write a python program to filter the numbers in a given list that are divisible by 2 and 3 using the\n",
    "filter function.\n",
    "[2, 3, 6, 9, 27, 60, 90, 120, 55, 46]'''\n",
    "\n",
    "l=[2, 3, 6, 9, 27, 60, 90, 120, 55, 46]\n",
    "def check(x):\n",
    "    if(x%2==0 and x%3==0):\n",
    "        return True\n",
    "    else:\n",
    "        return False\n",
    "list(filter(check,l))\n"
   ]
  },
  {
   "cell_type": "markdown",
   "id": "f2af3a30-86b6-42f2-86ab-a897ceb28b87",
   "metadata": {},
   "source": [
    "problem-6"
   ]
  },
  {
   "cell_type": "code",
   "execution_count": 6,
   "id": "d23693ba-b480-4c87-abcd-d1e540c0811f",
   "metadata": {},
   "outputs": [
    {
     "data": {
      "text/plain": [
       "['php', 'aba', 'radar', 'level']"
      ]
     },
     "execution_count": 6,
     "metadata": {},
     "output_type": "execute_result"
    }
   ],
   "source": [
    "'''Q6. Write a python program to find palindromes in the given list of strings using lambda and filter\n",
    "function.\n",
    "['python', 'php', 'aba', 'radar', 'level']'''\n",
    "\n",
    "\n",
    "l=['python', 'php', 'aba', 'radar', 'level']\n",
    "list(filter(lambda x:list(x)==list(reversed(x)),l)) "
   ]
  },
  {
   "cell_type": "code",
   "execution_count": null,
   "id": "cdb3fb9b-aa08-4748-9759-c63d7f066d22",
   "metadata": {},
   "outputs": [],
   "source": []
  },
  {
   "cell_type": "code",
   "execution_count": null,
   "id": "e4fc7ae7-bb01-4c1d-a719-f6314577df13",
   "metadata": {},
   "outputs": [],
   "source": []
  }
 ],
 "metadata": {
  "kernelspec": {
   "display_name": "Python 3 (ipykernel)",
   "language": "python",
   "name": "python3"
  },
  "language_info": {
   "codemirror_mode": {
    "name": "ipython",
    "version": 3
   },
   "file_extension": ".py",
   "mimetype": "text/x-python",
   "name": "python",
   "nbconvert_exporter": "python",
   "pygments_lexer": "ipython3",
   "version": "3.10.8"
  }
 },
 "nbformat": 4,
 "nbformat_minor": 5
}
